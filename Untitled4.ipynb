{
  "nbformat": 4,
  "nbformat_minor": 0,
  "metadata": {
    "colab": {
      "provenance": [],
      "authorship_tag": "ABX9TyNIZyrOTXaXfKYEYw8pjsIq",
      "include_colab_link": true
    },
    "kernelspec": {
      "name": "python3",
      "display_name": "Python 3"
    },
    "language_info": {
      "name": "python"
    }
  },
  "cells": [
    {
      "cell_type": "markdown",
      "metadata": {
        "id": "view-in-github",
        "colab_type": "text"
      },
      "source": [
        "<a href=\"https://colab.research.google.com/github/vardhan35361/var/blob/main/Untitled4.ipynb\" target=\"_parent\"><img src=\"https://colab.research.google.com/assets/colab-badge.svg\" alt=\"Open In Colab\"/></a>"
      ]
    },
    {
      "cell_type": "code",
      "execution_count": 1,
      "metadata": {
        "colab": {
          "base_uri": "https://localhost:8080/"
        },
        "id": "TN7tEc-8Yi04",
        "outputId": "1b1e2fdd-4670-4979-f9d1-8b72c2b8b810"
      },
      "outputs": [
        {
          "output_type": "stream",
          "name": "stdout",
          "text": [
            " | | \n",
            " | | \n",
            " | | \n",
            "\n",
            "Enter your move (0-8): 1\n",
            "AI chose: 8\n",
            " |X| \n",
            " | | \n",
            " | |O\n",
            "\n",
            "Enter your move (0-8): 2\n",
            "AI chose: 0\n",
            "O|X|X\n",
            " | | \n",
            " | |O\n",
            "\n",
            "Enter your move (0-8): 3\n",
            "AI chose: 6\n",
            "O|X|X\n",
            "X| | \n",
            "O| |O\n",
            "\n",
            "Enter your move (0-8): 4\n",
            "AI chose: 5\n",
            "O|X|X\n",
            "X|X|O\n",
            "O| |O\n",
            "\n",
            "Enter your move (0-8): 7\n",
            "O|X|X\n",
            "X|X|O\n",
            "O|X|O\n",
            "\n",
            "You win!\n"
          ]
        }
      ],
      "source": [
        "import random\n",
        "\n",
        "board = [\" \"]*9\n",
        "\n",
        "def print_board():\n",
        "    for i in range(0, 9, 3):\n",
        "        print(board[i] + \"|\" + board[i+1] + \"|\" + board[i+2])\n",
        "    print()\n",
        "\n",
        "def check_win(player):\n",
        "    wins = [(0,1,2),(3,4,5),(6,7,8),(0,3,6),(1,4,7),(2,5,8),(0,4,8),(2,4,6)]\n",
        "    return any(board[i]==board[j]==board[k]==player for i,j,k in wins)\n",
        "\n",
        "def player_move():\n",
        "    move = int(input(\"Enter your move (0-8): \"))\n",
        "    if board[move] == \" \":\n",
        "        board[move] = \"X\"\n",
        "    else:\n",
        "        print(\"Invalid move!\")\n",
        "        player_move()\n",
        "\n",
        "def ai_move():\n",
        "    empty = [i for i in range(9) if board[i] == \" \"]\n",
        "    move = random.choice(empty)\n",
        "    board[move] = \"O\"\n",
        "    print(f\"AI chose: {move}\")\n",
        "\n",
        "while True:\n",
        "    print_board()\n",
        "    player_move()\n",
        "    if check_win(\"X\"):\n",
        "        print_board()\n",
        "        print(\"You win!\")\n",
        "        break\n",
        "    if \" \" not in board:\n",
        "        print_board()\n",
        "        print(\"It's a draw!\")\n",
        "        break\n",
        "    ai_move()\n",
        "    if check_win(\"O\"):\n",
        "        print_board()\n",
        "        print(\"AI wins!\")\n",
        "        break\n"
      ]
    }
  ]
}